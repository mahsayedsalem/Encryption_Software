{
 "cells": [
  {
   "cell_type": "code",
   "execution_count": 64,
   "metadata": {
    "collapsed": true
   },
   "outputs": [],
   "source": [
    "from tkinter import *\n",
    "\n",
    "#put encryption code inside here:\n",
    "def Encrypt():\n",
    "    inputMessage = inputBox.get()\n",
    "    Key = inputKeyBox.get()\n",
    "    \n",
    "    #code here\n",
    "    \n",
    "    output.insert(END, inputMessage) #replace inputMessage with final result\n",
    "    print(\"Done\")\n",
    "\n",
    "    \n",
    "#Initiating GUI\n",
    "rootframe=Tk()\n",
    "\n",
    "#title and size of frame\n",
    "rootframe.title(\"AES implementation\")\n",
    "rootframe.geometry(\"1400x400\")\n",
    "\n",
    "#items in the frame\n",
    "\n",
    "#Message input in row 0\n",
    "Label(rootframe, text=\"Please enter message to be encrypted: \", font=16).grid(row=0,column=0,sticky=W)\n",
    "\n",
    "inputBox = Entry(rootframe, width=98, bg=\"white\")\n",
    "inputBox.grid(row=0, column=1, sticky=W)\n",
    "\n",
    "#Key input in row 1\n",
    "Label(rootframe, text=\"Please enter Key for encryption: \", font=16).grid(row=1,column=0,sticky=W)\n",
    "\n",
    "inputKeyBox = Entry(rootframe, width=98, bg=\"light grey\")\n",
    "inputKeyBox.grid(row=1, column=1, sticky=W)\n",
    "\n",
    "\n",
    "#button in row 2\n",
    "Button(rootframe, text=\"Start Encryption\", width=16, command=Encrypt).grid(row=2,column=0,sticky=W)\n",
    "\n",
    "\n",
    "#output in row 3\n",
    "Label(rootframe, text=\"Cyphertext: \", font=16).grid(row=3,column=0,sticky=W)\n",
    "\n",
    "output = Text(rootframe, width=98, height=5, background=\"light blue\")\n",
    "output.grid(row=3, column=1, sticky=W)\n",
    "\n",
    "#this keeps the frame running, any part of the frame should be added before it\n",
    "rootframe.mainloop()"
   ]
  }
 ],
 "metadata": {
  "kernelspec": {
   "display_name": "Python 3",
   "language": "python",
   "name": "python3"
  },
  "language_info": {
   "codemirror_mode": {
    "name": "ipython",
    "version": 3
   },
   "file_extension": ".py",
   "mimetype": "text/x-python",
   "name": "python",
   "nbconvert_exporter": "python",
   "pygments_lexer": "ipython3",
   "version": "3.5.4"
  }
 },
 "nbformat": 4,
 "nbformat_minor": 2
}
